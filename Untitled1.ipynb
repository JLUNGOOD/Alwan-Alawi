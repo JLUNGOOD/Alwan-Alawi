{
  "nbformat": 4,
  "nbformat_minor": 0,
  "metadata": {
    "colab": {
      "provenance": [],
      "collapsed_sections": [],
      "authorship_tag": "ABX9TyPIAjlkMdEwVXXhlJqLR0em",
      "include_colab_link": true
    },
    "kernelspec": {
      "name": "python3",
      "display_name": "Python 3"
    },
    "language_info": {
      "name": "python"
    }
  },
  "cells": [
    {
      "cell_type": "markdown",
      "metadata": {
        "id": "view-in-github",
        "colab_type": "text"
      },
      "source": [
        "<a href=\"https://colab.research.google.com/github/JLUNGOOD/Alwan-Alawi/blob/main/Untitled1.ipynb\" target=\"_parent\"><img src=\"https://colab.research.google.com/assets/colab-badge.svg\" alt=\"Open In Colab\"/></a>"
      ]
    },
    {
      "cell_type": "code",
      "execution_count": null,
      "metadata": {
        "colab": {
          "base_uri": "https://localhost:8080/",
          "height": 217
        },
        "id": "cObSl5bKRI-7",
        "outputId": "70d6bf32-2a2d-494e-8113-1cb305306453"
      },
      "outputs": [
        {
          "output_type": "error",
          "ename": "TypeError",
          "evalue": "ignored",
          "traceback": [
            "\u001b[0;31m---------------------------------------------------------------------------\u001b[0m",
            "\u001b[0;31mTypeError\u001b[0m                                 Traceback (most recent call last)",
            "\u001b[0;32m<ipython-input-3-ed646e597154>\u001b[0m in \u001b[0;36m<module>\u001b[0;34m\u001b[0m\n\u001b[1;32m     76\u001b[0m   \u001b[0;34m'C'\u001b[0m \u001b[0;34m:\u001b[0m \u001b[0;34m[\u001b[0m\u001b[0;34m(\u001b[0m\u001b[0;34m'D'\u001b[0m\u001b[0;34m,\u001b[0m \u001b[0;36m12\u001b[0m\u001b[0;34m)\u001b[0m\u001b[0;34m]\u001b[0m\u001b[0;34m\u001b[0m\u001b[0;34m\u001b[0m\u001b[0m\n\u001b[1;32m     77\u001b[0m }\n\u001b[0;32m---> 78\u001b[0;31m \u001b[0mgraph1\u001b[0m \u001b[0;34m=\u001b[0m \u001b[0mGraph\u001b[0m\u001b[0;34m(\u001b[0m\u001b[0madjacency_list\u001b[0m\u001b[0;34m)\u001b[0m\u001b[0;34m\u001b[0m\u001b[0;34m\u001b[0m\u001b[0m\n\u001b[0m\u001b[1;32m     79\u001b[0m \u001b[0mgraph1\u001b[0m\u001b[0;34m.\u001b[0m\u001b[0ma_star_algorithm\u001b[0m\u001b[0;34m(\u001b[0m\u001b[0;34m'A'\u001b[0m\u001b[0;34m,\u001b[0m \u001b[0;34m'D'\u001b[0m\u001b[0;34m)\u001b[0m\u001b[0;34m\u001b[0m\u001b[0;34m\u001b[0m\u001b[0m\n",
            "\u001b[0;31mTypeError\u001b[0m: Graph() takes no arguments"
          ]
        }
      ],
      "source": [
        "class Graph:\n",
        "  def _init_(self, adjacency_list):\n",
        "    self, adjacency_list = adjacency_list\n",
        "\n",
        "  def get_neighbors(self, v):\n",
        "    return self.adjacency_list[v]\n",
        "\n",
        "  #heuristic funcion with equal value for all nodes\n",
        "  def h(self, n):\n",
        "    H = {\n",
        "        'A' : 1,\n",
        "        'B' : 1,\n",
        "        'C' : 1,\n",
        "        'D' : 1\n",
        "    }\n",
        "    return H[n]\n",
        "\n",
        "    def a_star_algorithm(self, start_node, stop_node):\n",
        "      open_list = set([start_node])\n",
        "      closed_list = set([])\n",
        "\n",
        "      g[start_node]=0\n",
        "      #perent containes\n",
        "      parents = {}\n",
        "      parents[start_node] = start_node\n",
        "\n",
        "      while len(open_list) > 0:\n",
        "        n  = none;\n",
        "\n",
        "        for v in open_list:\n",
        "          if n == None or g[v] + self.h(v) < g[n] + self.h(n):\n",
        "            n = v;\n",
        "\n",
        "        if n == None:\n",
        "          print('Path does not exits!')\n",
        "          return None\n",
        "\n",
        "        if n == stop_node:\n",
        "          reconst_path = []\n",
        "\n",
        "          while parents[n] !=n:\n",
        "            reconst_path.append(n)\n",
        "            n = parents[n]\n",
        "\n",
        "          reconst_path.append(start_node)\n",
        "\n",
        "          reconst_path.reverse()\n",
        "\n",
        "          print('Parh found: {}'.format(reconst_path))\n",
        "          return reconst_path\n",
        "\n",
        "        \n",
        "        for(m, height) in selft.get_neifghbord(n):\n",
        "          if m not in open_list and m not in closed_list:\n",
        "            open_list.add(m)\n",
        "            parents[m] - n\n",
        "            g[m] =g[n] +weight\n",
        "\n",
        "          else:\n",
        "            if g[m] > g[n] + weight:\n",
        "              g[m] = g[n] + weight\n",
        "              parents[m] = n\n",
        "\n",
        "              if m in closed_list:\n",
        "                closed_list.remove(m)\n",
        "                open_list.add(m)\n",
        "\n",
        "        open_list.remove(n)\n",
        "        closed_list.add(n)\n",
        "    print('Path does not exits!')\n",
        "    return None\n",
        "\n",
        "adjacency_list = {\n",
        "  'A' : [('B', 1), ('C' , 3), ('D' ,7)],\n",
        "  'B' : [('D', 5)],\n",
        "  'C' : [('D', 12)]\n",
        "}\n",
        "graph1 = Graph(adjacency_list)\n",
        "graph1.a_star_algorithm('A', 'D')"
      ]
    },
    {
      "cell_type": "code",
      "source": [
        "DAG = {'A': {'C': 4, 'G': 9},\n",
        " 'G': {'E': 6},\n",
        " 'C': {'D': 6, 'H': 12},\n",
        " 'D': {'E': 7},\n",
        " 'H': {'F': 15},\n",
        " 'E': {'F': 8},\n",
        " 'F': {'B': 5}}\n",
        "def shortest_path(graph, source, dest):\n",
        " result = []\n",
        " result.append(source)\n",
        " while dest not in result:\n",
        " current_node = result[-1]\n",
        " local_max = min(graph[current_node].values())\n",
        " for node, weight in graph[current_node].items():\n",
        " if weight == local_max:\n",
        " result.append(node)\n",
        " return result\n"
      ],
      "metadata": {
        "id": "w0TvnuR8GgiS"
      },
      "execution_count": null,
      "outputs": []
    },
    {
      "cell_type": "code",
      "source": [
        "from operator import itemgetter, attrgetter\n",
        "w = [3, 4, 1, 7, 6, 8, 9]\n",
        "p = [4, 5, 2, 5, 5, 8, 11]\n",
        "item = [[3,4], [4,5], [1,2], [7,5], [6,5], [8,8], [9,11]]\n",
        "\n",
        "i = 0\n",
        "while i < len (item):\n",
        "  hasil = item[i][1]/item [i][0]\n",
        "  item[i].append(hasil)\n",
        "  i += 1\n",
        "\n",
        "data = sorted(item, key = itemgetter(2), reverse = True)\n",
        "\n",
        "def knapsack(data, cap, flag):\n",
        "  total = 0\n",
        "  tres = \"\"\n",
        "  if(flag == 0):\n",
        "    dataS = sorted(data, key = itemgetter(flag), reverse = True)\n",
        "    tres = \"bobot prioritas: \"\n",
        "  elif(flag == 1):\n",
        "    dataS = sorted(data, key = itemgetter(flag), reverse = True)\n",
        "    tres = \"Keuntungan prioritas: \"\n",
        "  elif(flag == 2):\n",
        "    dataS = sorted(data, key = itemgetter(flag), reverse = True)\n",
        "    tres = \"p prioritas: \"\n",
        "  else:\n",
        "    return \" Eror\"\n",
        "\n",
        "    j = 0\n",
        "    hasil = 0\n",
        "    #print(\"sini\")\n",
        "    cek = 0\n",
        "    weight = 0\n",
        "    while(j < len(dataS)):\n",
        "\n",
        "      if(cek + dataS[j][0] <= cap):\n",
        "        hasil = hasil + dataS[j][1]\n",
        "        weight = weight + dataS[j][0]\n",
        "        print(dataS[j][0])\n",
        "      cek = weight\n",
        "      j +=1;\n",
        "      #print(\"here\")\n",
        "    return(\"Optimal dalam \"+str(tres)+str(hasil))\n",
        "\n",
        "print(knapsack(item, 20,0))\n",
        "print(knapsack(item, 20,1))\n",
        "print(knapsack(item, 20,2))"
      ],
      "metadata": {
        "colab": {
          "base_uri": "https://localhost:8080/"
        },
        "id": "aAmSBjC1f8_b",
        "outputId": "4b30a186-b38a-4253-eea1-b261fb7e975b"
      },
      "execution_count": 1,
      "outputs": [
        {
          "output_type": "stream",
          "name": "stdout",
          "text": [
            "None\n",
            "None\n",
            "None\n"
          ]
        }
      ]
    }
  ]
}